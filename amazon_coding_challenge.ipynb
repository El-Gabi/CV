{
  "nbformat": 4,
  "nbformat_minor": 0,
  "metadata": {
    "colab": {
      "name": "amazon_coding_challenge.ipynb",
      "provenance": [],
      "authorship_tag": "ABX9TyMNzZS+6sHV/xMfhD91Qm0t",
      "include_colab_link": true
    },
    "kernelspec": {
      "name": "python3",
      "display_name": "Python 3"
    },
    "language_info": {
      "name": "python"
    }
  },
  "cells": [
    {
      "cell_type": "markdown",
      "metadata": {
        "id": "view-in-github",
        "colab_type": "text"
      },
      "source": [
        "<a href=\"https://colab.research.google.com/github/El-Gabi/CV/blob/main/amazon_coding_challenge.ipynb\" target=\"_parent\"><img src=\"https://colab.research.google.com/assets/colab-badge.svg\" alt=\"Open In Colab\"/></a>"
      ]
    },
    {
      "cell_type": "code",
      "source": [
        ""
      ],
      "metadata": {
        "id": "9kozqubJAj1y"
      },
      "execution_count": null,
      "outputs": []
    },
    {
      "cell_type": "markdown",
      "source": [
        "Amazon Coding Challenge using Python Programming Language(Phase 1)"
      ],
      "metadata": {
        "id": "meaAnkWDAkyh"
      }
    },
    {
      "cell_type": "markdown",
      "source": [
        "In my response to this challenge, from my knowledge about Data Structure and algorithms, there are different algorithms to solve this problem. But I chose to use the A Star Pathfinding Algorithm to solve this problem, because it is proven from different sources and online forums to have more effect than other algorithms."
      ],
      "metadata": {
        "id": "qtYa9D-WAsQr"
      }
    },
    {
      "cell_type": "code",
      "source": [
        "#Firstly I  generate the 10 by 10 matrix with all possible paths\n",
        "import numpy as np\n",
        "A = np.ones((10,10))\n",
        "A"
      ],
      "metadata": {
        "colab": {
          "base_uri": "https://localhost:8080/"
        },
        "id": "_rPcHSdTfmHq",
        "outputId": "3b88a98c-945c-4c75-9ee2-792a2367420f"
      },
      "execution_count": 1,
      "outputs": [
        {
          "output_type": "execute_result",
          "data": {
            "text/plain": [
              "array([[1., 1., 1., 1., 1., 1., 1., 1., 1., 1.],\n",
              "       [1., 1., 1., 1., 1., 1., 1., 1., 1., 1.],\n",
              "       [1., 1., 1., 1., 1., 1., 1., 1., 1., 1.],\n",
              "       [1., 1., 1., 1., 1., 1., 1., 1., 1., 1.],\n",
              "       [1., 1., 1., 1., 1., 1., 1., 1., 1., 1.],\n",
              "       [1., 1., 1., 1., 1., 1., 1., 1., 1., 1.],\n",
              "       [1., 1., 1., 1., 1., 1., 1., 1., 1., 1.],\n",
              "       [1., 1., 1., 1., 1., 1., 1., 1., 1., 1.],\n",
              "       [1., 1., 1., 1., 1., 1., 1., 1., 1., 1.],\n",
              "       [1., 1., 1., 1., 1., 1., 1., 1., 1., 1.]])"
            ]
          },
          "metadata": {},
          "execution_count": 1
        }
      ]
    },
    {
      "cell_type": "code",
      "source": [
        "# I assign the obstacle on the array by assigning the value zero to the location\n",
        "A[9,7] = 0\n",
        "A[8,7] = 0\n",
        "A[6,7] = 0\n",
        "A[6,8] = 0"
      ],
      "metadata": {
        "id": "YqMNud92rGiv"
      },
      "execution_count": 2,
      "outputs": []
    },
    {
      "cell_type": "code",
      "source": [
        "#From the output, the obstacle location does not correlate with the visuals given in the Coding Challenge\n",
        "A"
      ],
      "metadata": {
        "colab": {
          "base_uri": "https://localhost:8080/"
        },
        "id": "5Ft4PfW3x2PI",
        "outputId": "83acbda7-67be-4e2c-84ab-92b41aca7cc3"
      },
      "execution_count": 3,
      "outputs": [
        {
          "output_type": "execute_result",
          "data": {
            "text/plain": [
              "array([[1., 1., 1., 1., 1., 1., 1., 1., 1., 1.],\n",
              "       [1., 1., 1., 1., 1., 1., 1., 1., 1., 1.],\n",
              "       [1., 1., 1., 1., 1., 1., 1., 1., 1., 1.],\n",
              "       [1., 1., 1., 1., 1., 1., 1., 1., 1., 1.],\n",
              "       [1., 1., 1., 1., 1., 1., 1., 1., 1., 1.],\n",
              "       [1., 1., 1., 1., 1., 1., 1., 1., 1., 1.],\n",
              "       [1., 1., 1., 1., 1., 1., 1., 0., 0., 1.],\n",
              "       [1., 1., 1., 1., 1., 1., 1., 1., 1., 1.],\n",
              "       [1., 1., 1., 1., 1., 1., 1., 0., 1., 1.],\n",
              "       [1., 1., 1., 1., 1., 1., 1., 0., 1., 1.]])"
            ]
          },
          "metadata": {},
          "execution_count": 3
        }
      ]
    },
    {
      "cell_type": "code",
      "source": [
        "#I then transpose it to get the exact replica of the pictorial sample given but still couldn't but then I followed the positions of the obstacle stated in the challenge\n",
        "\n",
        "#(9,7), (8,7), (6,7) and (6,8) are assigned zeros as the obstacles and 1 is the walking path\n",
        "A = A.transpose()"
      ],
      "metadata": {
        "id": "lAc51boj4Fda"
      },
      "execution_count": 4,
      "outputs": []
    },
    {
      "cell_type": "code",
      "source": [
        "A"
      ],
      "metadata": {
        "colab": {
          "base_uri": "https://localhost:8080/"
        },
        "id": "aWBlGN3z4dYZ",
        "outputId": "87d90726-377c-4144-a5c2-1e79a9aec848"
      },
      "execution_count": 5,
      "outputs": [
        {
          "output_type": "execute_result",
          "data": {
            "text/plain": [
              "array([[1., 1., 1., 1., 1., 1., 1., 1., 1., 1.],\n",
              "       [1., 1., 1., 1., 1., 1., 1., 1., 1., 1.],\n",
              "       [1., 1., 1., 1., 1., 1., 1., 1., 1., 1.],\n",
              "       [1., 1., 1., 1., 1., 1., 1., 1., 1., 1.],\n",
              "       [1., 1., 1., 1., 1., 1., 1., 1., 1., 1.],\n",
              "       [1., 1., 1., 1., 1., 1., 1., 1., 1., 1.],\n",
              "       [1., 1., 1., 1., 1., 1., 1., 1., 1., 1.],\n",
              "       [1., 1., 1., 1., 1., 1., 0., 1., 0., 0.],\n",
              "       [1., 1., 1., 1., 1., 1., 0., 1., 1., 1.],\n",
              "       [1., 1., 1., 1., 1., 1., 1., 1., 1., 1.]])"
            ]
          },
          "metadata": {},
          "execution_count": 5
        }
      ]
    },
    {
      "cell_type": "code",
      "source": [
        "#I installed the dependencies to enable use the algorithms for this task"
      ],
      "metadata": {
        "id": "ul3zfeg34wux"
      },
      "execution_count": 5,
      "outputs": []
    },
    {
      "cell_type": "code",
      "source": [
        "pip install pathfinding"
      ],
      "metadata": {
        "colab": {
          "base_uri": "https://localhost:8080/"
        },
        "id": "lNU92Vio0v2v",
        "outputId": "d93e64bf-a8e6-47cd-dd84-984bbe31216c"
      },
      "execution_count": 6,
      "outputs": [
        {
          "output_type": "stream",
          "name": "stdout",
          "text": [
            "Looking in indexes: https://pypi.org/simple, https://us-python.pkg.dev/colab-wheels/public/simple/\n",
            "Requirement already satisfied: pathfinding in /usr/local/lib/python3.7/dist-packages (1.0.1)\n"
          ]
        }
      ]
    },
    {
      "cell_type": "code",
      "source": [
        "# First we import the dependencies in Python\n",
        "from pathfinding.core.grid import Grid      # This is used to form the Grid positions\n",
        "from pathfinding.core.diagonal_movement import DiagonalMovement   # This enables the algorithm to move diagonally in finding the shortestes path to the destination. "
      ],
      "metadata": {
        "id": "KEtoTi1t0WH1"
      },
      "execution_count": 7,
      "outputs": []
    },
    {
      "cell_type": "code",
      "source": [
        "# I create the grid of the matrix by calling the function\n",
        "\n",
        "grid = Grid(matrix = A)"
      ],
      "metadata": {
        "id": "K6r0vfe105wu"
      },
      "execution_count": 8,
      "outputs": []
    },
    {
      "cell_type": "code",
      "source": [
        "#Identify the start and finish node from the task\n",
        "begin = grid.node(0,0)\n",
        "delivery_point = grid.node(9,9)\n"
      ],
      "metadata": {
        "id": "zUjB5D3l1FsO"
      },
      "execution_count": 9,
      "outputs": []
    },
    {
      "cell_type": "code",
      "source": [
        "#Create a pathfinder\n",
        "\n",
        "from pathfinding.finder.a_star import AStarFinder  #The AStar Algorithm Module\n",
        "\n",
        "finder = AStarFinder(diagonal_movement = DiagonalMovement.always)\n",
        "\n",
        "# Now find the route\n",
        "\n",
        "route,steps = finder.find_path(begin, delivery_point, grid)"
      ],
      "metadata": {
        "id": "UBUQYAt21LvX"
      },
      "execution_count": 10,
      "outputs": []
    },
    {
      "cell_type": "code",
      "source": [
        "print(route) # The path the algorithm took from start to finish"
      ],
      "metadata": {
        "colab": {
          "base_uri": "https://localhost:8080/"
        },
        "id": "G8P0QiVb1OnI",
        "outputId": "a3383c24-a23c-41bd-ce99-d341e7cf679e"
      },
      "execution_count": 11,
      "outputs": [
        {
          "output_type": "stream",
          "name": "stdout",
          "text": [
            "[(0, 0), (1, 1), (2, 2), (3, 3), (4, 4), (5, 5), (6, 6), (7, 7), (8, 8), (9, 9)]\n"
          ]
        }
      ]
    },
    {
      "cell_type": "code",
      "source": [
        "print(steps) # The number of steps taken"
      ],
      "metadata": {
        "colab": {
          "base_uri": "https://localhost:8080/"
        },
        "id": "2STOZ6A01VcT",
        "outputId": "57c6c650-10be-4f02-8746-d7aaa2191c31"
      },
      "execution_count": 12,
      "outputs": [
        {
          "output_type": "stream",
          "name": "stdout",
          "text": [
            "10\n"
          ]
        }
      ]
    },
    {
      "cell_type": "markdown",
      "source": [
        "Phase 2"
      ],
      "metadata": {
        "id": "4U3vJgO45rHc"
      }
    },
    {
      "cell_type": "code",
      "execution_count": 13,
      "metadata": {
        "colab": {
          "base_uri": "https://localhost:8080/"
        },
        "id": "qRLFZZ5LcUWE",
        "outputId": "97271891-158c-4b67-8ea4-c85c0717ee03"
      },
      "outputs": [
        {
          "output_type": "stream",
          "name": "stdout",
          "text": [
            "Original: \n",
            "[[1. 1. 1. 1. 1. 1. 1. 1. 1. 1.]\n",
            " [1. 1. 1. 1. 1. 1. 1. 1. 1. 1.]\n",
            " [1. 1. 1. 1. 1. 1. 1. 1. 1. 1.]\n",
            " [1. 1. 1. 1. 1. 1. 1. 1. 1. 1.]\n",
            " [1. 1. 1. 1. 1. 1. 1. 1. 1. 1.]\n",
            " [1. 1. 1. 1. 1. 1. 1. 1. 1. 1.]\n",
            " [1. 1. 1. 1. 1. 1. 1. 1. 1. 1.]\n",
            " [1. 1. 1. 1. 1. 1. 0. 1. 0. 0.]\n",
            " [1. 1. 1. 1. 1. 1. 0. 1. 1. 1.]\n",
            " [1. 1. 1. 1. 1. 1. 1. 1. 1. 1.]]\n"
          ]
        }
      ],
      "source": [
        "# I get the shape of the array so as to fit the random numbers that will be generated into the shape\n",
        "N = 10\n",
        "M = 10\n",
        "\n",
        "# How many entries to replace\n",
        "REPLACE_COUNT = 20\n",
        "\n",
        "# What to replace with\n",
        "REPLACE_WITH = 0\n",
        "\n",
        "\n",
        "# Get the data array.\n",
        "\n",
        "print('Original: ')\n",
        "print(A)"
      ]
    },
    {
      "cell_type": "code",
      "source": [
        "#Here I randomly replace 20 numbers aside the starting and ending point\n",
        "\n",
        "A.flat[np.random.choice(N * M, REPLACE_COUNT, replace=False)] = REPLACE_WITH\n",
        "print('After replacement: ')\n",
        "print(A)"
      ],
      "metadata": {
        "colab": {
          "base_uri": "https://localhost:8080/"
        },
        "id": "VxmIgTZDc1-W",
        "outputId": "ce490ce1-0e03-4c3a-c688-01844f5117e8"
      },
      "execution_count": 14,
      "outputs": [
        {
          "output_type": "stream",
          "name": "stdout",
          "text": [
            "After replacement: \n",
            "[[1. 1. 0. 1. 1. 0. 1. 1. 1. 1.]\n",
            " [1. 1. 1. 0. 1. 1. 1. 1. 1. 1.]\n",
            " [0. 1. 1. 1. 1. 1. 1. 1. 1. 0.]\n",
            " [1. 1. 0. 1. 0. 0. 1. 1. 1. 1.]\n",
            " [1. 1. 0. 1. 1. 1. 0. 1. 1. 0.]\n",
            " [1. 1. 1. 1. 0. 1. 1. 1. 0. 1.]\n",
            " [1. 1. 1. 0. 1. 1. 0. 1. 1. 1.]\n",
            " [0. 1. 1. 1. 1. 1. 0. 1. 0. 0.]\n",
            " [0. 1. 1. 1. 1. 1. 0. 1. 1. 1.]\n",
            " [0. 1. 0. 1. 0. 1. 1. 1. 1. 1.]]\n"
          ]
        }
      ]
    },
    {
      "cell_type": "code",
      "source": [
        "# Get the grid\n",
        "grid2 = Grid(matrix = A)"
      ],
      "metadata": {
        "id": "UERxFB5F_ZU6"
      },
      "execution_count": 15,
      "outputs": []
    },
    {
      "cell_type": "code",
      "source": [
        "#Identify the start and finish node from the task\n",
        "begin2 = grid2.node(0,0)\n",
        "delivery_point2 = grid2.node(9,9)\n"
      ],
      "metadata": {
        "id": "3WqxoG0P_gAF"
      },
      "execution_count": 16,
      "outputs": []
    },
    {
      "cell_type": "code",
      "source": [
        "# Now find the route\n",
        "\n",
        "route2,steps2 = finder.find_path(begin2, delivery_point2, grid2)"
      ],
      "metadata": {
        "id": "hW7R-gNZ_sU9"
      },
      "execution_count": 17,
      "outputs": []
    },
    {
      "cell_type": "code",
      "source": [
        "print(\"The route from start to delivery is: \", route2)"
      ],
      "metadata": {
        "colab": {
          "base_uri": "https://localhost:8080/"
        },
        "id": "ATHFFPfg_02h",
        "outputId": "3dcd4022-fb00-47f6-e8ef-3b08ac0c0447"
      },
      "execution_count": 18,
      "outputs": [
        {
          "output_type": "stream",
          "name": "stdout",
          "text": [
            "The route from start to delivery is:  [(0, 0), (1, 1), (2, 2), (3, 3), (4, 4), (5, 5), (6, 5), (7, 6), (7, 7), (8, 8), (9, 9)]\n"
          ]
        }
      ]
    },
    {
      "cell_type": "code",
      "source": [
        "print(\"The number of steps from start to delivery is: \", steps2)"
      ],
      "metadata": {
        "colab": {
          "base_uri": "https://localhost:8080/"
        },
        "id": "ConnpwyJ_0_H",
        "outputId": "b86b90f4-d133-4e23-8cb6-da745f8da19b"
      },
      "execution_count": 19,
      "outputs": [
        {
          "output_type": "stream",
          "name": "stdout",
          "text": [
            "The number of steps from start to delivery is:  19\n"
          ]
        }
      ]
    },
    {
      "cell_type": "code",
      "source": [
        "# I gave this my best shot though not much commercial awareness."
      ],
      "metadata": {
        "id": "XW_IDDo-LzaE"
      },
      "execution_count": null,
      "outputs": []
    },
    {
      "cell_type": "code",
      "source": [
        "print (\"Hello\")"
      ],
      "metadata": {
        "colab": {
          "base_uri": "https://localhost:8080/"
        },
        "id": "BFJ_07YFLzoG",
        "outputId": "1e9c46a3-0e60-434f-8ef2-3ac44eae7828"
      },
      "execution_count": 20,
      "outputs": [
        {
          "output_type": "stream",
          "name": "stdout",
          "text": [
            "Hello\n"
          ]
        }
      ]
    },
    {
      "cell_type": "code",
      "source": [
        "import numpy as np\n",
        "\n",
        "b = [[1, 1, 1, 1, 1, 1],\n",
        "     [1, 0, 1, 0, 1, 1],\n",
        "     [1, 1, 0, 0, 1, 1]]\n",
        "\n",
        "import random\n",
        "\n",
        "a=[]\n",
        "n=int(input(\"Enter number of elements:\"))\n",
        "\n",
        "for j in range(n):\n",
        "       a.append(random.randint(0,1))\n",
        "\n",
        "print('Randomised list is: ',a)"
      ],
      "metadata": {
        "colab": {
          "base_uri": "https://localhost:8080/"
        },
        "id": "4tcSXGcMMEBM",
        "outputId": "cf6bf472-43ee-4fc5-babe-e8834ffac62d"
      },
      "execution_count": 47,
      "outputs": [
        {
          "output_type": "stream",
          "name": "stdout",
          "text": [
            "Enter number of elements:7\n",
            "Randomised list is:  [0, 0, 0, 0, 1, 0, 0]\n"
          ]
        }
      ]
    },
    {
      "cell_type": "code",
      "source": [
        ""
      ],
      "metadata": {
        "id": "q1LYRcRvMPCx"
      },
      "execution_count": null,
      "outputs": []
    }
  ]
}